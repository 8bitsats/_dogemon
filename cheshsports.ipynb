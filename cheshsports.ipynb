{
 "cells": [
  {
   "cell_type": "code",
   "execution_count": 1,
   "id": "98fae6d9",
   "metadata": {
    "_cell_guid": "b1076dfc-b9ad-4769-8c92-a6c4dae69d19",
    "_uuid": "8f2839f25d086af736a60e9eeb907d3b93b6e0e5",
    "execution": {
     "iopub.execute_input": "2024-12-22T18:15:29.273602Z",
     "iopub.status.busy": "2024-12-22T18:15:29.273224Z",
     "iopub.status.idle": "2024-12-22T18:15:29.758072Z",
     "shell.execute_reply": "2024-12-22T18:15:29.756911Z"
    },
    "papermill": {
     "duration": 0.491102,
     "end_time": "2024-12-22T18:15:29.759990",
     "exception": false,
     "start_time": "2024-12-22T18:15:29.268888",
     "status": "completed"
    },
    "tags": []
   },
   "outputs": [
    {
     "name": "stdout",
     "output_type": "stream",
     "text": [
      "/kaggle/input/sports/cleandata2.csv\n",
      "/kaggle/input/sports/sample_submission.csv\n",
      "/kaggle/input/sports/Prof.csv\n",
      "/kaggle/input/sports/cleandata.csv\n",
      "/kaggle/input/sports/teams.csv\n",
      "/kaggle/input/sports/ranking.csv\n",
      "/kaggle/input/sports/games_details.csv\n",
      "/kaggle/input/sports/games.csv\n",
      "/kaggle/input/sports/DARKO_player_talent_2024-12-22.csv\n",
      "/kaggle/input/sports/data.csv\n",
      "/kaggle/input/solana-data/SOL-USD.csv\n",
      "/kaggle/input/qwq-32b-preview/transformers/default/1/model.safetensors.index.json\n",
      "/kaggle/input/qwq-32b-preview/transformers/default/1/model-00012-of-00017.safetensors\n",
      "/kaggle/input/qwq-32b-preview/transformers/default/1/model-00009-of-00017.safetensors\n",
      "/kaggle/input/qwq-32b-preview/transformers/default/1/model-00007-of-00017.safetensors\n",
      "/kaggle/input/qwq-32b-preview/transformers/default/1/config.json\n",
      "/kaggle/input/qwq-32b-preview/transformers/default/1/model-00013-of-00017.safetensors\n",
      "/kaggle/input/qwq-32b-preview/transformers/default/1/model-00003-of-00017.safetensors\n",
      "/kaggle/input/qwq-32b-preview/transformers/default/1/model-00001-of-00017.safetensors\n",
      "/kaggle/input/qwq-32b-preview/transformers/default/1/merges.txt\n",
      "/kaggle/input/qwq-32b-preview/transformers/default/1/model-00008-of-00017.safetensors\n",
      "/kaggle/input/qwq-32b-preview/transformers/default/1/LICENSE\n",
      "/kaggle/input/qwq-32b-preview/transformers/default/1/README.md\n",
      "/kaggle/input/qwq-32b-preview/transformers/default/1/model-00004-of-00017.safetensors\n",
      "/kaggle/input/qwq-32b-preview/transformers/default/1/tokenizer.json\n",
      "/kaggle/input/qwq-32b-preview/transformers/default/1/vocab.json\n",
      "/kaggle/input/qwq-32b-preview/transformers/default/1/model-00006-of-00017.safetensors\n",
      "/kaggle/input/qwq-32b-preview/transformers/default/1/model-00010-of-00017.safetensors\n",
      "/kaggle/input/qwq-32b-preview/transformers/default/1/model-00014-of-00017.safetensors\n",
      "/kaggle/input/qwq-32b-preview/transformers/default/1/tokenizer_config.json\n",
      "/kaggle/input/qwq-32b-preview/transformers/default/1/model-00015-of-00017.safetensors\n",
      "/kaggle/input/qwq-32b-preview/transformers/default/1/model-00002-of-00017.safetensors\n",
      "/kaggle/input/qwq-32b-preview/transformers/default/1/model-00016-of-00017.safetensors\n",
      "/kaggle/input/qwq-32b-preview/transformers/default/1/model-00011-of-00017.safetensors\n",
      "/kaggle/input/qwq-32b-preview/transformers/default/1/model-00005-of-00017.safetensors\n",
      "/kaggle/input/qwq-32b-preview/transformers/default/1/model-00017-of-00017.safetensors\n",
      "/kaggle/input/qwq-32b-preview/transformers/default/1/generation_config.json\n",
      "/kaggle/input/nft-data-create/README.md\n",
      "/kaggle/input/nflman/players.csv\n",
      "/kaggle/input/nflman/tracking_week_7.csv\n",
      "/kaggle/input/nflman/tracking_week_9.csv\n",
      "/kaggle/input/nflman/tracking_week_6.csv\n",
      "/kaggle/input/nflman/games.csv\n",
      "/kaggle/input/nflman/tracking_week_8.csv\n",
      "/kaggle/input/nflman/player_play.csv\n",
      "/kaggle/input/nflman/tracking_week_4.csv\n",
      "/kaggle/input/nflman/tracking_week_3.csv\n",
      "/kaggle/input/nflman/tracking_week_5.csv\n",
      "/kaggle/input/nflman/tracking_week_1.csv\n",
      "/kaggle/input/nflman/plays.csv\n",
      "/kaggle/input/nflman/tracking_week_2.csv\n",
      "/kaggle/input/solana/analysis-of-smart-contracts-in-blockchain.ipynb\n",
      "/kaggle/input/solana/analysing-crypto-charts-like-pro.ipynb\n",
      "/kaggle/input/solana/solana-prediction.ipynb\n",
      "/kaggle/input/player-injuries-and-team-performance-dataset/player_injuries_impact.csv\n",
      "/kaggle/input/kobebr/kobe_superwide_games.csv\n",
      "/kaggle/input/kobebr/nba-sports-betting-model.ipynb\n",
      "/kaggle/input/nba-player-stats-season-2425/database_24_25.csv\n",
      "/kaggle/input/4chan-posts-from-all-boards-20645-posts/data.db\n",
      "/kaggle/input/nba-2023-24/NBA_AI_2023_2024.sqlite\n",
      "/kaggle/input/4chan4trump/database.sqlite\n",
      "/kaggle/input/who-earned-the-most-in-sports-in-2020/None0000000.png\n",
      "/kaggle/input/who-earned-the-most-in-sports-in-2020/__results__.html\n",
      "/kaggle/input/who-earned-the-most-in-sports-in-2020/__resultx__.html\n",
      "/kaggle/input/who-earned-the-most-in-sports-in-2020/__notebook__.ipynb\n",
      "/kaggle/input/who-earned-the-most-in-sports-in-2020/__output__.json\n",
      "/kaggle/input/who-earned-the-most-in-sports-in-2020/custom.css\n",
      "/kaggle/input/who-earned-the-most-in-sports-in-2020/__results___files/__results___41_0.png\n",
      "/kaggle/input/who-earned-the-most-in-sports-in-2020/__results___files/__results___42_1.png\n"
     ]
    }
   ],
   "source": [
    "# This Python 3 environment comes with many helpful analytics libraries installed\n",
    "# It is defined by the kaggle/python Docker image: https://github.com/kaggle/docker-python\n",
    "# For example, here's several helpful packages to load\n",
    "\n",
    "import numpy as np # linear algebra\n",
    "import pandas as pd # data processing, CSV file I/O (e.g. pd.read_csv)\n",
    "\n",
    "# Input data files are available in the read-only \"../input/\" directory\n",
    "# For example, running this (by clicking run or pressing Shift+Enter) will list all files under the input directory\n",
    "\n",
    "import os\n",
    "for dirname, _, filenames in os.walk('/kaggle/input'):\n",
    "    for filename in filenames:\n",
    "        print(os.path.join(dirname, filename))\n",
    "\n",
    "# You can write up to 20GB to the current directory (/kaggle/working/) that gets preserved as output when you create a version using \"Save & Run All\" \n",
    "# You can also write temporary files to /kaggle/temp/, but they won't be saved outside of the current session"
   ]
  }
 ],
 "metadata": {
  "kaggle": {
   "accelerator": "none",
   "dataSources": [
    {
     "datasetId": 1514,
     "sourceId": 2706,
     "sourceType": "datasetVersion"
    },
    {
     "datasetId": 1642617,
     "sourceId": 3358619,
     "sourceType": "datasetVersion"
    },
    {
     "datasetId": 3855002,
     "sourceId": 6682779,
     "sourceType": "datasetVersion"
    },
    {
     "datasetId": 3946734,
     "sourceId": 6895601,
     "sourceType": "datasetVersion"
    },
    {
     "datasetId": 6291803,
     "sourceId": 10184758,
     "sourceType": "datasetVersion"
    },
    {
     "datasetId": 5999475,
     "sourceId": 10255873,
     "sourceType": "datasetVersion"
    },
    {
     "datasetId": 6355166,
     "sourceId": 10271420,
     "sourceType": "datasetVersion"
    },
    {
     "datasetId": 6355246,
     "sourceId": 10271535,
     "sourceType": "datasetVersion"
    },
    {
     "datasetId": 6355371,
     "sourceId": 10271691,
     "sourceType": "datasetVersion"
    },
    {
     "datasetId": 6355391,
     "sourceId": 10271720,
     "sourceType": "datasetVersion"
    },
    {
     "datasetId": 6355515,
     "sourceId": 10271896,
     "sourceType": "datasetVersion"
    },
    {
     "sourceId": 68454284,
     "sourceType": "kernelVersion"
    },
    {
     "modelId": 176602,
     "modelInstanceId": 154124,
     "sourceId": 180858,
     "sourceType": "modelInstanceVersion"
    }
   ],
   "dockerImageVersionId": 30822,
   "isGpuEnabled": false,
   "isInternetEnabled": true,
   "language": "python",
   "sourceType": "notebook"
  },
  "kernelspec": {
   "display_name": "Python 3",
   "language": "python",
   "name": "python3"
  },
  "language_info": {
   "codemirror_mode": {
    "name": "ipython",
    "version": 3
   },
   "file_extension": ".py",
   "mimetype": "text/x-python",
   "name": "python",
   "nbconvert_exporter": "python",
   "pygments_lexer": "ipython3",
   "version": "3.10.12"
  },
  "papermill": {
   "default_parameters": {},
   "duration": 3.20029,
   "end_time": "2024-12-22T18:15:30.182289",
   "environment_variables": {},
   "exception": null,
   "input_path": "__notebook__.ipynb",
   "output_path": "__notebook__.ipynb",
   "parameters": {},
   "start_time": "2024-12-22T18:15:26.981999",
   "version": "2.6.0"
  }
 },
 "nbformat": 4,
 "nbformat_minor": 5
}
